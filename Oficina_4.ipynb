{
 "cells": [
  {
   "cell_type": "markdown",
   "metadata": {
    "id": "Q0NYUGHTN5yC"
   },
   "source": [
    "# Oficina 4 – Transações em Banco de Dados\n",
    "\n",
    "Integrantes:\n",
    "* André Luiz Girão Ferreira\n",
    "* Sara\n",
    "* Thaís\n",
    "* Tiago\n",
    "\n",
    "**Objetivo**: Experimentar estratégias para utilização de transações e níveis de isolamento em SGBDs relacionais. As tarefas envolvem uma simulação de um sistema de reservas de passagem áreas.\n",
    "\n",
    "\n",
    "\n",
    "\n",
    "\n",
    "\n"
   ]
  },
  {
   "cell_type": "markdown",
   "metadata": {
    "id": "2cZ0HtZ8Q-gE"
   },
   "source": [
    "## Informações Iniciais - Simulação de Sistema de Reservas de Passagens\n",
    "\n",
    "### Tabela e Atributos\n",
    "\n",
    "Considere a seguinte tabela que registra os assentos reservados em um vôo:\n",
    "\n",
    "***Assentos(num_voo,disp)***\n",
    "onde\n",
    "\n",
    "* ***num_voo***: é um número inteiro de 1 a 200\n",
    "* ***disp***: é um atributo booleano cujo valor é **true** se o assento estiver vago e **false** caso contrário. **O valor inicial é *true***\n",
    "\n",
    "### Reserva de Assento\n",
    "\n",
    "A reserva de um assento é feita em três passos:\n",
    "\n",
    "* **Passo 1:** O sistema recupera a lista dos assentos disponíveis.\n",
    "* **Passo 2:** O cliente escolhe o assento. Esse passo deve ser simulado pela escolha aleatória de um dos assentos disponíveis, levando para isso um **tempo de escolha de 1 segundo**.\n",
    "* **Passo 3:** O sistema registra a reserva do assento escolhido, **atualizando o valor de disp para false**.\n",
    "\n",
    "Cada assento é reservado individualmente. Duas versões diferentes do processo de reserva devem ser implementadas:\n",
    "* **Versão A:** A reserva é implementada como uma única transação que inclui os três passos acima.\n",
    "* **Versão B:** A reserva inclui uma transação para o Passo 1 e outra para o Passo 3. O Passo 2 não faz parte das transações, mas deve ser executado.\n",
    "\n",
    "### Os Agentes\n",
    "\n",
    "Agentes de viagens são responsáveis por realizar as reservas de **200 clientes no total**. A atividade de um agente de viagens é simulada por uma ***thread***.\n",
    "\n",
    "Experimentos devem ser realizados simulando a atuação de **k** agentes de viagem trabalhando simultaneamente, onde\n",
    "* k = 1,2,4,6,8 e 10.\n",
    "\n",
    "Cada agente/thread faz uma reserva de cada vez. **As threads devem ser reiniciadas até que todos os 200 clientes tenham seus assentos reservados**.\n",
    "\n",
    "### Sobre os Experimentos\n",
    "\n",
    "Dois conjuntos de experimentos devem ser feitos usando dois níveis de isolamento:  \n",
    "* “read committed”; e\n",
    "* “serializable”.  \n",
    "\n",
    "Nos dois casos, o sistema deve ser configurado para **realizar bloqueios a nível de tupla** (linha).\n"
   ]
  },
  {
   "cell_type": "markdown",
   "metadata": {
    "id": "CHbLMr2MSha1"
   },
   "source": [
    "## Tarefas"
   ]
  },
  {
   "cell_type": "markdown",
   "metadata": {},
   "source": [
    "### Criando tabela no banco de dados"
   ]
  },
  {
   "cell_type": "code",
   "execution_count": 3,
   "metadata": {},
   "outputs": [
    {
     "name": "stdout",
     "output_type": "stream",
     "text": [
      "Requirement already satisfied: psycopg2 in c:\\users\\andre\\appdata\\local\\programs\\python\\python312\\lib\\site-packages (2.9.10)\n"
     ]
    },
    {
     "name": "stderr",
     "output_type": "stream",
     "text": [
      "\n",
      "[notice] A new release of pip is available: 24.0 -> 25.1.1\n",
      "[notice] To update, run: python.exe -m pip install --upgrade pip\n"
     ]
    }
   ],
   "source": [
    "!pip3 install psycopg2\n",
    "import psycopg2\n"
   ]
  },
  {
   "cell_type": "code",
   "execution_count": null,
   "metadata": {},
   "outputs": [],
   "source": [
    "import psycopg2\n",
    "\n",
    "# Conexão com o banco de dados\n",
    "connection = psycopg2.connect(\n",
    "    host=\"localhost\",      \n",
    "    port=\"5432\",           \n",
    "    database=\"oficina4\",   \n",
    "    user=\"root\",    \n",
    "    password=\"1234\"  \n",
    ")\n",
    "\n",
    "# Criando um cursor para executar comandos SQL\n",
    "cursor = connection.cursor()\n",
    "\n",
    "# Criando a tabela Assentos\n",
    "cursor.execute(\"\"\"\n",
    "    CREATE TABLE IF NOT EXISTS Assentos (\n",
    "        num_voo INTEGER CHECK (num_voo >= 1 AND num_voo <= 200),\n",
    "        disp BOOLEAN DEFAULT TRUE\n",
    "    );\n",
    "\"\"\")\n",
    "\n",
    "# Salvando a transação\n",
    "connection.commit()\n",
    "\n",
    "# Fechando o cursor e a conexão\n",
    "cursor.close()"
   ]
  },
  {
   "cell_type": "markdown",
   "metadata": {
    "id": "YbhI6rYgSnS6"
   },
   "source": [
    "### Tarefa 1\n",
    "\n",
    "Implemente as **versões A e B do processo de reserva**. É importante que as implementações tratem adequadamente conflitos de Concorrência como **deadlocks e rollbacks**"
   ]
  },
  {
   "cell_type": "code",
   "execution_count": null,
   "metadata": {},
   "outputs": [],
   "source": [
    "import threading\n",
    "import time"
   ]
  },
  {
   "cell_type": "code",
   "execution_count": null,
   "metadata": {},
   "outputs": [],
   "source": [
    "# Função que implementa comportamento do Agente de Viagens\n",
    "def agente(id, processo_reserva):\n",
    "    for i in range(3):\n",
    "        print(f\"Agente {id} - está executando {i}\")\n",
    "        processo_reserva()\n",
    "        time.sleep(1)"
   ]
  },
  {
   "cell_type": "code",
   "execution_count": null,
   "metadata": {
    "id": "o9cysGEvd9ZW"
   },
   "outputs": [],
   "source": [
    "def reservar_acentos(numero_agentes, processo_reserva):\n",
    "    agentes = []\n",
    "\n",
    "    # criando threads para agentes\n",
    "    for id in range(numero_agentes):\n",
    "        agentes.append(threading.Thread(target=agente, args=(id, processo_reserva)))\n",
    "\n",
    "    # Iniciando as threads\n",
    "    for id in range(numero_agentes):\n",
    "        agentes[id].start()\n",
    "\n",
    "    # Aguardar o término das threads\n",
    "    for id in range(numero_agentes):\n",
    "        agentes[id].join()\n",
    "\n",
    "    print(\"Todos os agentes terminaram de trabalhar.\")"
   ]
  },
  {
   "cell_type": "code",
   "execution_count": null,
   "metadata": {},
   "outputs": [],
   "source": [
    "def processo_reserva_A():\n",
    "    pass\n",
    "\n",
    "def processo_reserva_B():\n",
    "    pass"
   ]
  },
  {
   "cell_type": "code",
   "execution_count": null,
   "metadata": {},
   "outputs": [],
   "source": [
    "numero_agentes = [1,2,4,6,8,10]  #numero k de agentes\n",
    "\n",
    "for k in numero_agentes:\n",
    "    reservar_acentos(k, processo_reserva_A)\n",
    "\n",
    "for k in numero_agentes:\n",
    "    reservar_acentos(k, processo_reserva_B)"
   ]
  },
  {
   "cell_type": "markdown",
   "metadata": {
    "id": "u6zFqohZS8ap"
   },
   "source": [
    "### Tarefa 2\n",
    "\n",
    "Apresente gráficos de linha onde, para cada valor de k (número de agentes) no eixo x, temos no eixo y o tempo necessário para que todos os clientes efetuem suas reservas. Um gráfico diferente deve ser apresentado para cada par de versões da reserva e nível de isolamento.\n",
    "\n"
   ]
  },
  {
   "cell_type": "code",
   "execution_count": null,
   "metadata": {
    "id": "UhK4ZddwTIlF"
   },
   "outputs": [],
   "source": []
  },
  {
   "cell_type": "markdown",
   "metadata": {
    "id": "YvJTpMYpTI9R"
   },
   "source": [
    "### Tarefa 3\n",
    "\n",
    "Apresente uma tabela com o número máximo, mínimo e médio de vezes que um cliente teve que tentar reservar um assento até conseguir, ou seja, o número de vezes que uma reserva teve que ser refeita. A tabela considera as variações de k, versão de reserva e nível de isolamento.\n"
   ]
  },
  {
   "cell_type": "code",
   "execution_count": null,
   "metadata": {
    "id": "QN2K8oUtTNxl"
   },
   "outputs": [],
   "source": []
  },
  {
   "cell_type": "markdown",
   "metadata": {
    "id": "J4d0SPKyTOZG"
   },
   "source": [
    "### Tarefa 4\n",
    "\n",
    "Apresente uma análise dos resultados obtidos em cada versão de reserva e tipo de isolamento, explicando as diferenças entre resultados.\n"
   ]
  },
  {
   "cell_type": "code",
   "execution_count": null,
   "metadata": {
    "id": "V1Zh297yTaKR"
   },
   "outputs": [],
   "source": []
  },
  {
   "cell_type": "markdown",
   "metadata": {
    "id": "imtu-0CHTaha"
   },
   "source": [
    "### Tarefa 5\n",
    "\n",
    "Análise de Conflitos de Concorrência. Para cada experimento executado, registre o número de deadlocks e rollbacks detectados pelo sistema gerenciador de banco de dados.\n",
    "\n",
    "**O que entregar:** Um resumo tabular com o número total de deadlocks e rollbacks para cada combinação de (versão de reserva, nível de isolamento, valor de k). Indicação de como os erros foram tratados no código (ex: tentativas de reexecução, logs etc.)."
   ]
  },
  {
   "cell_type": "code",
   "execution_count": null,
   "metadata": {
    "id": "91I3799oTcvf"
   },
   "outputs": [],
   "source": []
  },
  {
   "cell_type": "markdown",
   "metadata": {
    "id": "cpmA74X2TdWX"
   },
   "source": [
    "### Tarefa 6 - Avaliação de Variação na Ordem de Alocação de Assentos\n",
    "\n",
    "Compare a ordem final dos assentos ocupados (i.e., a sequência de num_voo com disp = false) entre diferentes execuções de um mesmo cenário com concorrência (mesmo k, versão e nível de isolamento), para identificar variações causadas por condições de corrida.\n",
    "\n",
    "**O que entregar:** Para cada combinação de parâmetros com k > 1, execute o experimento 3 vezes e apresente a variação na ordem dos assentos alocados; Discuta a relação dessa variação com o nível de isolamento e a estrutura transacional usada.\n",
    "\n"
   ]
  },
  {
   "cell_type": "code",
   "execution_count": null,
   "metadata": {
    "id": "tTGIl0vsT_Qe"
   },
   "outputs": [],
   "source": []
  },
  {
   "cell_type": "markdown",
   "metadata": {
    "id": "3shU_h6ZT_ra"
   },
   "source": [
    "### Tarefa 7 - Demonstração de Anomalias de Concorrência em Diferentes Níveis de Isolamento\n",
    "\n",
    "O objetivo desta tarefa é observar experimentalmente a ocorrência (ou não) de três tipos clássicos de anomalias em transações concorrentes, sob os níveis de isolamento **READ COMMITTED** e **SERIALIZABLE**. Para isso, implemente três experimentos distintos e controlados, cada um projetado para testar um fenômeno. Cada experimento deve ser executado duas vezes, uma com cada nível de isolamento, e a diferença de comportamento deve ser registrada.\n",
    "\n"
   ]
  },
  {
   "cell_type": "code",
   "execution_count": null,
   "metadata": {
    "id": "W_rn_h-eUKGZ"
   },
   "outputs": [],
   "source": []
  },
  {
   "cell_type": "markdown",
   "metadata": {
    "id": "eYcC8YVlUNe0"
   },
   "source": [
    "## Experimentos"
   ]
  },
  {
   "cell_type": "markdown",
   "metadata": {
    "id": "aSfwtjf5UP49"
   },
   "source": [
    "### Experimento A - Non-repeatable Read\n",
    "\n",
    "**Descrição:** Uma transação lê um mesmo dado duas vezes, mas entre essas duas leituras, outra transação modifica o dado e realiza commit.\n",
    "\n",
    "**Cenário:**\n",
    "* T1 inicia e lê o valor de um assento específico.\n",
    "* T2 inicia, atualiza o mesmo assento para reservado (disp=false) e comita.\n",
    "* T1 tenta reler o mesmo assento.\n",
    "\n",
    "**O que entregar:**\n",
    "* Código das transações T1 e T2.\n",
    "* Logs ou saídas indicando se T1 leu valores diferentes na primeira e segunda leitura.\n",
    "* Análise: isso ocorreu em qual nível de isolamento?\n",
    "\n",
    "\n"
   ]
  },
  {
   "cell_type": "code",
   "execution_count": null,
   "metadata": {
    "id": "Z7PnDJY3UpAm"
   },
   "outputs": [],
   "source": []
  },
  {
   "cell_type": "markdown",
   "metadata": {
    "id": "UDlQ-vnpUpis"
   },
   "source": [
    "### Experimento B - Phanton Read\n",
    "\n",
    "**Descrição:** Uma transação executa a mesma consulta duas vezes e obtém conjuntos de resultados diferentes porque outra transação inseriu ou removeu dados que se encaixam no critério da consulta.\n",
    "\n",
    "**Cenário:**\n",
    "* T1 inicia e consulta todos os assentos vagos (disp=true).\n",
    "* T2 inicia, insere um novo assento vago (disp=true) ou atualiza um assento para vago, e comita.\n",
    "* T1 executa novamente a mesma consulta.\n",
    "\n",
    "\n",
    "**O que entregar:**\n",
    "* Código de T1 e T2.\n",
    "* Saída das duas execuções da consulta de T1.\n",
    "* Indicação se houve alteração no resultado.\n",
    "* Discussão da relação com o nível de isolamento usado.\n"
   ]
  },
  {
   "cell_type": "code",
   "execution_count": null,
   "metadata": {
    "id": "Hy0vs9fvU3d_"
   },
   "outputs": [],
   "source": []
  },
  {
   "cell_type": "markdown",
   "metadata": {
    "id": "FDQqbZU8U34g"
   },
   "source": [
    "### Experimento C - Dirty Read\n",
    "\n",
    "**Descrição:** Uma transação lê dados modificados por outra transação que ainda não fez commit (ou que foi revertida). Esse experimento serve para mostrar que o PostgreSQL não permite dirty reads nem mesmo em READ COMMITTED, então o comportamento esperado é que não ocorra a leitura suja.\n",
    "\n",
    "**Cenário:**\n",
    "* T1 inicia e atualiza o valor de um assento (disp=false), mas não comita.\n",
    "* T2 inicia e tenta ler o mesmo assento.\n",
    "* T1 faz rollback.\n",
    "\n",
    "\n",
    "**O que entregar:**\n",
    "* Código de T1 e T2 com sincronização apropriada para simular esse cenário.\n",
    "* Comprovação de que T2 não teve acesso ao valor não confirmado.\n",
    "* Discussão: por que isso ocorre mesmo em READ COMMITTED?"
   ]
  },
  {
   "cell_type": "code",
   "execution_count": null,
   "metadata": {
    "id": "pMBQYTWeVFQK"
   },
   "outputs": [],
   "source": []
  }
 ],
 "metadata": {
  "colab": {
   "provenance": []
  },
  "kernelspec": {
   "display_name": "Python 3",
   "name": "python3"
  },
  "language_info": {
   "codemirror_mode": {
    "name": "ipython",
    "version": 3
   },
   "file_extension": ".py",
   "mimetype": "text/x-python",
   "name": "python",
   "nbconvert_exporter": "python",
   "pygments_lexer": "ipython3",
   "version": "3.12.3"
  }
 },
 "nbformat": 4,
 "nbformat_minor": 0
}
