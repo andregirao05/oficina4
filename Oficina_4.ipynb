{
 "cells": [
  {
   "cell_type": "markdown",
   "metadata": {
    "id": "Q0NYUGHTN5yC"
   },
   "source": [
    "# Oficina 4 – Transações em Banco de Dados\n",
    "\n",
    "Integrantes:\n",
    "* André Luiz Girão Ferreira\n",
    "* Sara\n",
    "* Thaís\n",
    "* Tiago\n",
    "\n",
    "**Objetivo**: Experimentar estratégias para utilização de transações e níveis de isolamento em SGBDs relacionais. As tarefas envolvem uma simulação de um sistema de reservas de passagem áreas.\n",
    "\n",
    "\n",
    "\n",
    "\n",
    "\n",
    "\n"
   ]
  },
  {
   "cell_type": "markdown",
   "metadata": {
    "id": "2cZ0HtZ8Q-gE"
   },
   "source": [
    "## Informações Iniciais - Simulação de Sistema de Reservas de Passagens\n",
    "\n",
    "### Tabela e Atributos\n",
    "\n",
    "Considere a seguinte tabela que registra os assentos reservados em um vôo:\n",
    "\n",
    "***Assentos(num_voo,disp)***\n",
    "onde\n",
    "\n",
    "* ***num_voo***: é um número inteiro de 1 a 200\n",
    "* ***disp***: é um atributo booleano cujo valor é **true** se o assento estiver vago e **false** caso contrário. **O valor inicial é *true***\n",
    "\n",
    "### Reserva de Assento\n",
    "\n",
    "A reserva de um assento é feita em três passos:\n",
    "\n",
    "* **Passo 1:** O sistema recupera a lista dos assentos disponíveis.\n",
    "* **Passo 2:** O cliente escolhe o assento. Esse passo deve ser simulado pela escolha aleatória de um dos assentos disponíveis, levando para isso um **tempo de escolha de 1 segundo**.\n",
    "* **Passo 3:** O sistema registra a reserva do assento escolhido, **atualizando o valor de disp para false**.\n",
    "\n",
    "Cada assento é reservado individualmente. Duas versões diferentes do processo de reserva devem ser implementadas:\n",
    "* **Versão A:** A reserva é implementada como uma única transação que inclui os três passos acima.\n",
    "* **Versão B:** A reserva inclui uma transação para o Passo 1 e outra para o Passo 3. O Passo 2 não faz parte das transações, mas deve ser executado.\n",
    "\n",
    "### Os Agentes\n",
    "\n",
    "Agentes de viagens são responsáveis por realizar as reservas de **200 clientes no total**. A atividade de um agente de viagens é simulada por uma ***thread***.\n",
    "\n",
    "Experimentos devem ser realizados simulando a atuação de **k** agentes de viagem trabalhando simultaneamente, onde\n",
    "* k = 1,2,4,6,8 e 10.\n",
    "\n",
    "Cada agente/thread faz uma reserva de cada vez. **As threads devem ser reiniciadas até que todos os 200 clientes tenham seus assentos reservados**.\n",
    "\n",
    "### Sobre os Experimentos\n",
    "\n",
    "Dois conjuntos de experimentos devem ser feitos usando dois níveis de isolamento:  \n",
    "* “read committed”; e\n",
    "* “serializable”.  \n",
    "\n",
    "Nos dois casos, o sistema deve ser configurado para **realizar bloqueios a nível de tupla** (linha).\n"
   ]
  },
  {
   "cell_type": "markdown",
   "metadata": {},
   "source": [
    "### Preparação Inicial do Banco de Dados "
   ]
  },
  {
   "cell_type": "code",
   "execution_count": 1,
   "metadata": {},
   "outputs": [],
   "source": [
    "# instalando dependências\n",
    "!pip install psycopg2"
   ]
  },
  {
   "cell_type": "code",
   "execution_count": 10,
   "metadata": {},
   "outputs": [],
   "source": [
    "!pip uninstall psycopg2 psycopg2-binary\n",
    "!pip install --no-cache-dir psycopg2-binary\n"
   ]
  },
  {
   "cell_type": "code",
   "execution_count": 11,
   "metadata": {},
   "outputs": [],
   "source": [
    "# importando dependências\n",
    "import threading\n",
    "import random\n",
    "import time\n",
    "import psycopg2"
   ]
  },
  {
   "cell_type": "code",
   "execution_count": 26,
   "metadata": {},
   "outputs": [],
   "source": [
    "# --- Configurações para conectar ao banco de dados padrão 'postgres' (para criar dbs) ---\n",
    "DB_CONFIG_ADMIN = {\n",
    "    'host': 'localhost',\n",
    "    'port': '5432',\n",
    "    'dbname': 'postgres',  # Conectar ao banco de dados padrão 'postgres'\n",
    "    'user': 'postgres',\n",
    "    'password': '1234',\n",
    "    'options': '-c client_encoding=UTF8'\n",
    "}\n",
    "\n",
    "# --- Configurações para conectar ao seu banco de dados 'oficina4' ---\n",
    "DB_CONFIG_OFICINA4 = {\n",
    "    'host': 'localhost',\n",
    "    'port': '5432',\n",
    "    'dbname': 'oficina4',  # Seu novo banco de dados\n",
    "    'user': 'postgres',\n",
    "    'password': '1234',\n",
    "    'options': '-c client_encoding=UTF8'\n",
    "}\n",
    "\n",
    "TOTAL_CLIENTES = 200"
   ]
  },
  {
   "cell_type": "code",
   "execution_count": 27,
   "metadata": {},
   "outputs": [],
   "source": [
    "def get_conexao_db(options):\n",
    "    return psycopg2.connect(**options)"
   ]
  },
  {
   "cell_type": "code",
   "execution_count": 36,
   "metadata": {},
   "outputs": [],
   "source": [
    "def criar_banco_e_tabela():\n",
    "    conn_admin = None\n",
    "    conn_oficina4 = None\n",
    "\n",
    "    try:\n",
    "        # --- Parte 1: Conexão para criar o banco de dados (usando DB_CONFIG_ADMIN) ---\n",
    "        conn_admin = get_conexao_db(DB_CONFIG_ADMIN)\n",
    "        # É preferível usar set_isolation_level(ISOLATION_LEVEL_AUTOCOMMIT) para DDL\n",
    "        conn_admin.autocommit = True\n",
    "        cur_admin = conn_admin.cursor()\n",
    "\n",
    "        # Cria o banco de dados \"oficina4\" se não existir\n",
    "        cur_admin.execute(\"SELECT 1 FROM pg_database WHERE datname = 'oficina4'\")\n",
    "        existe = cur_admin.fetchone()\n",
    "        if not existe:\n",
    "            # Recomenda-se adicionar ENCODING, LC_COLLATE e TEMPLATE para robustez\n",
    "            cur_admin.execute(\"CREATE DATABASE oficina4 WITH ENCODING 'UTF8' LC_COLLATE 'C' LC_CTYPE 'C' TEMPLATE template0;\")\n",
    "            print(\"Banco de dados 'oficina4' criado com sucesso.\")\n",
    "        else:\n",
    "            print(\"Banco de dados 'oficina4' já existe.\")\n",
    "\n",
    "        cur_admin.close()\n",
    "        conn_admin.close() # FECHE a conexão administrativa aqui!\n",
    "\n",
    "        # --- Parte 2: Conexão ao banco recém-criado \"oficina4\" para criar a tabela ---\n",
    "        print(\"Tentando conectar ao banco de dados 'oficina4' para criar a tabela...\")\n",
    "        conn_oficina4 = get_conexao_db(DB_CONFIG_OFICINA4)\n",
    "        conn_oficina4.autocommit = True\n",
    "        # Para DDL (CREATE TABLE), também é bom usar autocommit ou set_isolation_level\n",
    "        # Se você for fazer operações DML (INSERT, UPDATE) depois, considere desativar autocommit\n",
    "        # e usar conn.commit() para essas operações.\n",
    "        cur_oficina4 = conn_oficina4.cursor()\n",
    "\n",
    "        # Cria a tabela Assentos se não existir\n",
    "        cur_oficina4.execute(\"\"\"\n",
    "            CREATE TABLE IF NOT EXISTS Assentos (\n",
    "                num_voo INTEGER PRIMARY KEY CHECK (num_voo BETWEEN 1 AND 200),\n",
    "                disp BOOLEAN DEFAULT TRUE\n",
    "            );\n",
    "        \"\"\")\n",
    "        # Com autocommit ativado, conn.commit() aqui é redundante, mas não prejudicial.\n",
    "        # Se você tivesse set_isolation_level(psycopg2.IsolationLevel.READ_COMMITTED)\n",
    "        # ou outro nível padrão, o commit seria necessário.\n",
    "        # Vou deixar o commit para mostrar que em cenários de DML ele seria importante.\n",
    "        # conn_oficina4.commit() # Remova esta linha se autocommit estiver sempre ativo para DDL.\n",
    "        print(\"Tabela 'Assentos' criada com sucesso.\")\n",
    "\n",
    "        cur_oficina4.close()\n",
    "\n",
    "    except psycopg2.Error as e: # Capture exceções mais específicas de psycopg2\n",
    "        print(f\"Erro ao criar banco ou tabela: {e}\")\n",
    "    except Exception as e: # Capture outras exceções genéricas\n",
    "        print(f\"Ocorreu um erro inesperado: {e}\")\n",
    "    finally:\n",
    "        # Garanta que ambas as conexões sejam fechadas se estiverem abertas\n",
    "        if conn_admin is not None:\n",
    "            conn_admin.close()\n",
    "        if conn_oficina4 is not None:\n",
    "            conn_oficina4.close()"
   ]
  },
  {
   "cell_type": "code",
   "execution_count": 29,
   "metadata": {},
   "outputs": [],
   "source": [
    "# --- Inicializa os assentos (roda uma vez) ---\n",
    "def inicializar_assentos():\n",
    "    conn = get_conexao_db(DB_CONFIG_OFICINA4)\n",
    "    cur = conn.cursor()\n",
    "    cur.execute(\"DELETE FROM Assentos;\")  # limpa a tabela\n",
    "    for i in range(1, 201):\n",
    "        cur.execute(\"INSERT INTO Assentos (num_voo, disp) VALUES (%s, TRUE);\", (i,))\n",
    "    conn.commit()\n",
    "    cur.close()\n",
    "    conn.close()"
   ]
  },
  {
   "cell_type": "code",
   "execution_count": 37,
   "metadata": {},
   "outputs": [
    {
     "name": "stdout",
     "output_type": "stream",
     "text": [
      "Banco de dados 'oficina4' já existe.\n",
      "Tentando conectar ao banco de dados 'oficina4' para criar a tabela...\n",
      "Tabela 'Assentos' criada com sucesso.\n"
     ]
    }
   ],
   "source": [
    "criar_banco_e_tabela()"
   ]
  },
  {
   "cell_type": "code",
   "execution_count": 38,
   "metadata": {},
   "outputs": [],
   "source": [
    "inicializar_assentos()"
   ]
  },
  {
   "cell_type": "markdown",
   "metadata": {},
   "source": [
    "### Tarefa 1\n",
    "\n",
    "Implemente as **versões A e B do processo de reserva**. É importante que as implementações tratem adequadamente conflitos de Concorrência como **deadlocks e rollbacks**\n"
   ]
  },
  {
   "cell_type": "code",
   "execution_count": 39,
   "metadata": {},
   "outputs": [],
   "source": [
    "# --- Versão A: tudo em uma transação ---\n",
    "def reservar_assento_versao_a(id_agente):\n",
    "    try:\n",
    "        conn = get_conexao_db()\n",
    "        cur = conn.cursor()\n",
    "        conn.autocommit = False  # transação manual\n",
    "\n",
    "        # Passo 1: buscar assentos disponíveis\n",
    "        cur.execute(\"SELECT num_voo FROM Assentos WHERE disp = TRUE FOR UPDATE;\")\n",
    "        disponiveis = cur.fetchall()\n",
    "\n",
    "        if not disponiveis:\n",
    "            print(f\"[Agente-{id_agente}]: Nenhum assento disponível.\")\n",
    "            conn.rollback()\n",
    "            return\n",
    "\n",
    "        # Passo 2: escolher assento (fora do BD)\n",
    "        time.sleep(1)\n",
    "        escolhido = random.choice(disponiveis)[0]\n",
    "\n",
    "        # Passo 3: reservar\n",
    "        cur.execute(\"UPDATE Assentos SET disp = FALSE WHERE num_voo = %s;\", (escolhido,))\n",
    "        conn.commit()\n",
    "        print(f\"[Agente-{id_agente}]: Reservado assento {escolhido}\")\n",
    "\n",
    "    except Exception as e:\n",
    "        print(f\"[Agente-{id_agente}]: Erro: {e}\")\n",
    "        conn.rollback()\n",
    "    finally:\n",
    "        cur.close()\n",
    "        conn.close()"
   ]
  },
  {
   "cell_type": "code",
   "execution_count": 40,
   "metadata": {},
   "outputs": [],
   "source": [
    "# --- Versão B: duas transações ---\n",
    "def reservar_assento_versao_b(id_agente):\n",
    "    try:\n",
    "        conn = get_conexao_db()\n",
    "        conn.autocommit = False\n",
    "        \n",
    "        # Transação 1: buscar disponíveis\n",
    "        cur1 = conn.cursor()\n",
    "        \n",
    "        cur1.execute(\"SELECT num_voo FROM Assentos WHERE disp = TRUE;\")\n",
    "        disponiveis = cur1.fetchall()\n",
    "        \n",
    "        if not disponiveis:\n",
    "            print(f\"[Agente-{id_agente}]: Nenhum assento disponível.\")\n",
    "            conn.rollback()\n",
    "            return\n",
    "\n",
    "        conn.commit()\n",
    "        cur1.close()\n",
    "        \n",
    "        # Passo 2: escolher (tempo de escolha)\n",
    "        time.sleep(1)\n",
    "        escolhido = random.choice(disponiveis)[0]\n",
    "\n",
    "        # Transação 2: tentativa de reserva\n",
    "        cur2 = conn.cursor()\n",
    "        cur2.execute(\"UPDATE Assentos SET disp = FALSE WHERE num_voo = %s AND disp = TRUE;\", (escolhido,))\n",
    "        \n",
    "        if cur2.rowcount == 0:\n",
    "            print(f\"[Agente-{id_agente}]: Assento {escolhido} já foi reservado por outro agente.\")\n",
    "            conn.rollback()\n",
    "        else:\n",
    "            conn.commit()\n",
    "            print(f\"[Agente-{id_agente}]: Reservado assento {escolhido}\")\n",
    "\n",
    "    except Exception as e:\n",
    "        print(f\"[Agente-{id_agente}]: Erro: {e}\")\n",
    "        conn.rollback()\n",
    "    finally:\n",
    "        if 'cur1' in locals(): cur1.close()\n",
    "        if 'cur2' in locals(): cur2.close()\n",
    "        if 'conn' in locals(): conn.close()"
   ]
  },
  {
   "cell_type": "code",
   "execution_count": 41,
   "metadata": {},
   "outputs": [],
   "source": [
    "# --- Gerenciador de threads ---\n",
    "def executar_reservas(versao, num_agentes):\n",
    "    agentes = []\n",
    "    reservar_assento = reservar_assento_versao_a if versao == \"A\" else reservar_assento_versao_b\n",
    "\n",
    "    #criando threads\n",
    "    for i in range(num_agentes):\n",
    "        id_agente = i+1\n",
    "        t = threading.Thread(target=reservar_assento, args=(id_agente,))\n",
    "        agentes.append(t)\n",
    "        t.start()\n",
    "\n",
    "    #esperando threads acabarem\n",
    "    for agente in agentes:\n",
    "        agente.join()\n",
    "\n",
    "    print(f\"--- Reservas versão {versao} finalizadas ---\")"
   ]
  },
  {
   "cell_type": "code",
   "execution_count": null,
   "metadata": {},
   "outputs": [],
   "source": [
    "numero_agentes = [1,2,4,6,8,10]  #numero k de agentes\n",
    "\n",
    "for k in numero_agentes:\n",
    "    executar_reservas(versao=\"A\", num_agentes=numero_agentes)\n",
    "\n",
    "for k in numero_agentes:\n",
    "    executar_reservas(versao=\"B\", num_agentes=numero_agentes)"
   ]
  },
  {
   "cell_type": "markdown",
   "metadata": {
    "id": "u6zFqohZS8ap"
   },
   "source": [
    "### Tarefa 2\n",
    "\n",
    "Apresente gráficos de linha onde, para cada valor de k (número de agentes) no eixo x, temos no eixo y o tempo necessário para que todos os clientes efetuem suas reservas. Um gráfico diferente deve ser apresentado para cada par de versões da reserva e nível de isolamento.\n",
    "\n"
   ]
  },
  {
   "cell_type": "code",
   "execution_count": null,
   "metadata": {
    "id": "UhK4ZddwTIlF"
   },
   "outputs": [],
   "source": []
  },
  {
   "cell_type": "markdown",
   "metadata": {
    "id": "YvJTpMYpTI9R"
   },
   "source": [
    "### Tarefa 3\n",
    "\n",
    "Apresente uma tabela com o número máximo, mínimo e médio de vezes que um cliente teve que tentar reservar um assento até conseguir, ou seja, o número de vezes que uma reserva teve que ser refeita. A tabela considera as variações de k, versão de reserva e nível de isolamento.\n"
   ]
  },
  {
   "cell_type": "code",
   "execution_count": null,
   "metadata": {
    "id": "QN2K8oUtTNxl"
   },
   "outputs": [],
   "source": []
  },
  {
   "cell_type": "markdown",
   "metadata": {
    "id": "J4d0SPKyTOZG"
   },
   "source": [
    "### Tarefa 4\n",
    "\n",
    "Apresente uma análise dos resultados obtidos em cada versão de reserva e tipo de isolamento, explicando as diferenças entre resultados.\n"
   ]
  },
  {
   "cell_type": "code",
   "execution_count": null,
   "metadata": {
    "id": "V1Zh297yTaKR"
   },
   "outputs": [],
   "source": []
  },
  {
   "cell_type": "markdown",
   "metadata": {
    "id": "imtu-0CHTaha"
   },
   "source": [
    "### Tarefa 5\n",
    "\n",
    "Análise de Conflitos de Concorrência. Para cada experimento executado, registre o número de deadlocks e rollbacks detectados pelo sistema gerenciador de banco de dados.\n",
    "\n",
    "**O que entregar:** Um resumo tabular com o número total de deadlocks e rollbacks para cada combinação de (versão de reserva, nível de isolamento, valor de k). Indicação de como os erros foram tratados no código (ex: tentativas de reexecução, logs etc.)."
   ]
  },
  {
   "cell_type": "code",
   "execution_count": null,
   "metadata": {
    "id": "91I3799oTcvf"
   },
   "outputs": [],
   "source": []
  },
  {
   "cell_type": "markdown",
   "metadata": {
    "id": "cpmA74X2TdWX"
   },
   "source": [
    "### Tarefa 6 - Avaliação de Variação na Ordem de Alocação de Assentos\n",
    "\n",
    "Compare a ordem final dos assentos ocupados (i.e., a sequência de num_voo com disp = false) entre diferentes execuções de um mesmo cenário com concorrência (mesmo k, versão e nível de isolamento), para identificar variações causadas por condições de corrida.\n",
    "\n",
    "**O que entregar:** Para cada combinação de parâmetros com k > 1, execute o experimento 3 vezes e apresente a variação na ordem dos assentos alocados; Discuta a relação dessa variação com o nível de isolamento e a estrutura transacional usada.\n",
    "\n"
   ]
  },
  {
   "cell_type": "code",
   "execution_count": null,
   "metadata": {
    "id": "tTGIl0vsT_Qe"
   },
   "outputs": [],
   "source": []
  },
  {
   "cell_type": "markdown",
   "metadata": {
    "id": "3shU_h6ZT_ra"
   },
   "source": [
    "### Tarefa 7 - Demonstração de Anomalias de Concorrência em Diferentes Níveis de Isolamento\n",
    "\n",
    "O objetivo desta tarefa é observar experimentalmente a ocorrência (ou não) de três tipos clássicos de anomalias em transações concorrentes, sob os níveis de isolamento **READ COMMITTED** e **SERIALIZABLE**. Para isso, implemente três experimentos distintos e controlados, cada um projetado para testar um fenômeno. Cada experimento deve ser executado duas vezes, uma com cada nível de isolamento, e a diferença de comportamento deve ser registrada.\n",
    "\n"
   ]
  },
  {
   "cell_type": "code",
   "execution_count": null,
   "metadata": {
    "id": "W_rn_h-eUKGZ"
   },
   "outputs": [],
   "source": []
  },
  {
   "cell_type": "markdown",
   "metadata": {
    "id": "eYcC8YVlUNe0"
   },
   "source": [
    "## Experimentos"
   ]
  },
  {
   "cell_type": "markdown",
   "metadata": {
    "id": "aSfwtjf5UP49"
   },
   "source": [
    "### Experimento A - Non-repeatable Read\n",
    "\n",
    "**Descrição:** Uma transação lê um mesmo dado duas vezes, mas entre essas duas leituras, outra transação modifica o dado e realiza commit.\n",
    "\n",
    "**Cenário:**\n",
    "* T1 inicia e lê o valor de um assento específico.\n",
    "* T2 inicia, atualiza o mesmo assento para reservado (disp=false) e comita.\n",
    "* T1 tenta reler o mesmo assento.\n",
    "\n",
    "**O que entregar:**\n",
    "* Código das transações T1 e T2.\n",
    "* Logs ou saídas indicando se T1 leu valores diferentes na primeira e segunda leitura.\n",
    "* Análise: isso ocorreu em qual nível de isolamento?\n",
    "\n",
    "\n"
   ]
  },
  {
   "cell_type": "code",
   "execution_count": null,
   "metadata": {
    "id": "Z7PnDJY3UpAm"
   },
   "outputs": [],
   "source": []
  },
  {
   "cell_type": "markdown",
   "metadata": {
    "id": "UDlQ-vnpUpis"
   },
   "source": [
    "### Experimento B - Phanton Read\n",
    "\n",
    "**Descrição:** Uma transação executa a mesma consulta duas vezes e obtém conjuntos de resultados diferentes porque outra transação inseriu ou removeu dados que se encaixam no critério da consulta.\n",
    "\n",
    "**Cenário:**\n",
    "* T1 inicia e consulta todos os assentos vagos (disp=true).\n",
    "* T2 inicia, insere um novo assento vago (disp=true) ou atualiza um assento para vago, e comita.\n",
    "* T1 executa novamente a mesma consulta.\n",
    "\n",
    "\n",
    "**O que entregar:**\n",
    "* Código de T1 e T2.\n",
    "* Saída das duas execuções da consulta de T1.\n",
    "* Indicação se houve alteração no resultado.\n",
    "* Discussão da relação com o nível de isolamento usado.\n"
   ]
  },
  {
   "cell_type": "code",
   "execution_count": null,
   "metadata": {
    "id": "Hy0vs9fvU3d_"
   },
   "outputs": [],
   "source": []
  },
  {
   "cell_type": "markdown",
   "metadata": {
    "id": "FDQqbZU8U34g"
   },
   "source": [
    "### Experimento C - Dirty Read\n",
    "\n",
    "**Descrição:** Uma transação lê dados modificados por outra transação que ainda não fez commit (ou que foi revertida). Esse experimento serve para mostrar que o PostgreSQL não permite dirty reads nem mesmo em READ COMMITTED, então o comportamento esperado é que não ocorra a leitura suja.\n",
    "\n",
    "**Cenário:**\n",
    "* T1 inicia e atualiza o valor de um assento (disp=false), mas não comita.\n",
    "* T2 inicia e tenta ler o mesmo assento.\n",
    "* T1 faz rollback.\n",
    "\n",
    "\n",
    "**O que entregar:**\n",
    "* Código de T1 e T2 com sincronização apropriada para simular esse cenário.\n",
    "* Comprovação de que T2 não teve acesso ao valor não confirmado.\n",
    "* Discussão: por que isso ocorre mesmo em READ COMMITTED?"
   ]
  },
  {
   "cell_type": "code",
   "execution_count": null,
   "metadata": {
    "id": "pMBQYTWeVFQK"
   },
   "outputs": [],
   "source": []
  }
 ],
 "metadata": {
  "colab": {
   "provenance": []
  },
  "kernelspec": {
   "display_name": ".venv",
   "language": "python",
   "name": "python3"
  },
  "language_info": {
   "codemirror_mode": {
    "name": "ipython",
    "version": 3
   },
   "file_extension": ".py",
   "mimetype": "text/x-python",
   "name": "python",
   "nbconvert_exporter": "python",
   "pygments_lexer": "ipython3",
   "version": "3.13.5"
  }
 },
 "nbformat": 4,
 "nbformat_minor": 0
}
